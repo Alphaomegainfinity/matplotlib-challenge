{
 "cells": [
  {
   "cell_type": "code",
   "execution_count": 1,
   "metadata": {},
   "outputs": [],
   "source": [
    "#For running matplotlib on Jupyter Notebook:\n",
    "#%matplotlib notebook\n",
    "\n",
    "#For running matplotlib on VS Code\n",
    "%matplotlib ipympl  \n",
    "#or use the code %matplotlib inline"
   ]
  },
  {
   "cell_type": "code",
   "execution_count": 2,
   "metadata": {},
   "outputs": [],
   "source": [
    "# Dependencies and Setup\n",
    "import matplotlib.pyplot as plt\n",
    "import pandas as pd\n",
    "import scipy.stats as st\n",
    "from scipy.stats import sem\n",
    "import numpy as np\n",
    "\n",
    "# Study data files\n",
    "mouse_metadata_path = \"data/Mouse_metadata.csv\"\n",
    "study_results_path = \"data/Study_results.csv\"\n",
    "\n",
    "# Read the mouse data and the study results\n",
    "mouse_metadata = pd.read_csv(mouse_metadata_path)\n",
    "study_results = pd.read_csv(study_results_path)"
   ]
  },
  {
   "cell_type": "code",
   "execution_count": 3,
   "metadata": {},
   "outputs": [
    {
     "data": {
      "text/html": [
       "<div>\n",
       "<style scoped>\n",
       "    .dataframe tbody tr th:only-of-type {\n",
       "        vertical-align: middle;\n",
       "    }\n",
       "\n",
       "    .dataframe tbody tr th {\n",
       "        vertical-align: top;\n",
       "    }\n",
       "\n",
       "    .dataframe thead th {\n",
       "        text-align: right;\n",
       "    }\n",
       "</style>\n",
       "<table border=\"1\" class=\"dataframe\">\n",
       "  <thead>\n",
       "    <tr style=\"text-align: right;\">\n",
       "      <th></th>\n",
       "      <th>Mouse ID</th>\n",
       "      <th>Drug Regimen</th>\n",
       "      <th>Sex</th>\n",
       "      <th>Age_months</th>\n",
       "      <th>Weight (g)</th>\n",
       "      <th>Timepoint</th>\n",
       "      <th>Tumour Volume (mm3)</th>\n",
       "      <th>Metastatic Sites</th>\n",
       "    </tr>\n",
       "  </thead>\n",
       "  <tbody>\n",
       "    <tr>\n",
       "      <th>0</th>\n",
       "      <td>k403</td>\n",
       "      <td>Ramicane</td>\n",
       "      <td>Male</td>\n",
       "      <td>21</td>\n",
       "      <td>16</td>\n",
       "      <td>0</td>\n",
       "      <td>45.000000</td>\n",
       "      <td>0</td>\n",
       "    </tr>\n",
       "    <tr>\n",
       "      <th>1</th>\n",
       "      <td>k403</td>\n",
       "      <td>Ramicane</td>\n",
       "      <td>Male</td>\n",
       "      <td>21</td>\n",
       "      <td>16</td>\n",
       "      <td>5</td>\n",
       "      <td>38.825898</td>\n",
       "      <td>0</td>\n",
       "    </tr>\n",
       "    <tr>\n",
       "      <th>2</th>\n",
       "      <td>k403</td>\n",
       "      <td>Ramicane</td>\n",
       "      <td>Male</td>\n",
       "      <td>21</td>\n",
       "      <td>16</td>\n",
       "      <td>10</td>\n",
       "      <td>35.014271</td>\n",
       "      <td>1</td>\n",
       "    </tr>\n",
       "    <tr>\n",
       "      <th>3</th>\n",
       "      <td>k403</td>\n",
       "      <td>Ramicane</td>\n",
       "      <td>Male</td>\n",
       "      <td>21</td>\n",
       "      <td>16</td>\n",
       "      <td>15</td>\n",
       "      <td>34.223992</td>\n",
       "      <td>1</td>\n",
       "    </tr>\n",
       "    <tr>\n",
       "      <th>4</th>\n",
       "      <td>k403</td>\n",
       "      <td>Ramicane</td>\n",
       "      <td>Male</td>\n",
       "      <td>21</td>\n",
       "      <td>16</td>\n",
       "      <td>20</td>\n",
       "      <td>32.997729</td>\n",
       "      <td>1</td>\n",
       "    </tr>\n",
       "  </tbody>\n",
       "</table>\n",
       "</div>"
      ],
      "text/plain": [
       "  Mouse ID Drug Regimen   Sex  Age_months  Weight (g)  Timepoint  \\\n",
       "0     k403     Ramicane  Male          21          16          0   \n",
       "1     k403     Ramicane  Male          21          16          5   \n",
       "2     k403     Ramicane  Male          21          16         10   \n",
       "3     k403     Ramicane  Male          21          16         15   \n",
       "4     k403     Ramicane  Male          21          16         20   \n",
       "\n",
       "   Tumour Volume (mm3)  Metastatic Sites  \n",
       "0            45.000000                 0  \n",
       "1            38.825898                 0  \n",
       "2            35.014271                 1  \n",
       "3            34.223992                 1  \n",
       "4            32.997729                 1  "
      ]
     },
     "execution_count": 3,
     "metadata": {},
     "output_type": "execute_result"
    }
   ],
   "source": [
    "# Combine the data into a single dataset\n",
    "mouse_study = pd.merge (mouse_metadata,study_results, on = \"Mouse ID\")\n",
    "\n",
    "# Display the data table for preview\n",
    "mouse_study.head()"
   ]
  },
  {
   "cell_type": "code",
   "execution_count": 4,
   "metadata": {},
   "outputs": [
    {
     "data": {
      "text/plain": [
       "249"
      ]
     },
     "execution_count": 4,
     "metadata": {},
     "output_type": "execute_result"
    }
   ],
   "source": [
    "# Checking the number of mice.\n",
    "mouse_count = mouse_study ['Mouse ID'].nunique()\n",
    "mouse_count"
   ]
  },
  {
   "cell_type": "code",
   "execution_count": 5,
   "metadata": {},
   "outputs": [
    {
     "data": {
      "text/plain": [
       "['g989']"
      ]
     },
     "execution_count": 5,
     "metadata": {},
     "output_type": "execute_result"
    }
   ],
   "source": [
    "# Getting the duplicate mice by ID number that shows up for Mouse ID and Timepoint. \n",
    "\n",
    "mouse_study_duplicated = mouse_study[['Mouse ID', 'Timepoint']].duplicated()\n",
    "# get mouse IDs where duplication detected\n",
    "mouse_id_duplicated = list(mouse_study.loc[mouse_study_duplicated]['Mouse ID'].unique()) \n",
    "mouse_id_duplicated"
   ]
  },
  {
   "cell_type": "code",
   "execution_count": 6,
   "metadata": {},
   "outputs": [
    {
     "ename": "TypeError",
     "evalue": "count() takes exactly one argument (0 given)",
     "output_type": "error",
     "traceback": [
      "\u001b[1;31m---------------------------------------------------------------------------\u001b[0m",
      "\u001b[1;31mTypeError\u001b[0m                                 Traceback (most recent call last)",
      "\u001b[1;32m~\\AppData\\Local\\Temp\\ipykernel_11808\\447294753.py\u001b[0m in \u001b[0;36m<module>\u001b[1;34m\u001b[0m\n\u001b[0;32m      1\u001b[0m \u001b[1;31m#Calculating the total number of duplicated Mouse ID\u001b[0m\u001b[1;33m\u001b[0m\u001b[1;33m\u001b[0m\u001b[1;33m\u001b[0m\u001b[0m\n\u001b[1;32m----> 2\u001b[1;33m \u001b[0mmouse_duplicated_count\u001b[0m \u001b[1;33m=\u001b[0m \u001b[0mmouse_id_duplicated\u001b[0m\u001b[1;33m.\u001b[0m \u001b[0mcount\u001b[0m\u001b[1;33m(\u001b[0m\u001b[1;33m)\u001b[0m\u001b[1;33m\u001b[0m\u001b[1;33m\u001b[0m\u001b[0m\n\u001b[0m\u001b[0;32m      3\u001b[0m \u001b[0mmouse_duplicated_count\u001b[0m\u001b[1;33m\u001b[0m\u001b[1;33m\u001b[0m\u001b[0m\n",
      "\u001b[1;31mTypeError\u001b[0m: count() takes exactly one argument (0 given)"
     ]
    }
   ],
   "source": [
    "#Calculating the total number of duplicated Mouse ID\n",
    "mouse_duplicated_count = mouse_id_duplicated. count()\n",
    "mouse_duplicated_count"
   ]
  },
  {
   "cell_type": "code",
   "execution_count": null,
   "metadata": {},
   "outputs": [
    {
     "ename": "TypeError",
     "evalue": "duplicated() got an unexpected keyword argument 'subset'",
     "output_type": "error",
     "traceback": [
      "\u001b[1;31m---------------------------------------------------------------------------\u001b[0m",
      "\u001b[1;31mTypeError\u001b[0m                                 Traceback (most recent call last)",
      "\u001b[1;32m~\\AppData\\Local\\Temp\\ipykernel_6416\\432258955.py\u001b[0m in \u001b[0;36m<module>\u001b[1;34m\u001b[0m\n\u001b[0;32m      1\u001b[0m \u001b[1;31m# Optional: Get all the data for the duplicate mouse ID.\u001b[0m\u001b[1;33m\u001b[0m\u001b[1;33m\u001b[0m\u001b[1;33m\u001b[0m\u001b[0m\n\u001b[1;32m----> 2\u001b[1;33m \u001b[0mdisplay_duplicate\u001b[0m \u001b[1;33m=\u001b[0m \u001b[0mmouse_study_duplicated\u001b[0m\u001b[1;33m.\u001b[0m\u001b[0mduplicated\u001b[0m\u001b[1;33m(\u001b[0m\u001b[0msubset\u001b[0m\u001b[1;33m=\u001b[0m\u001b[1;33m[\u001b[0m\u001b[1;34m'Mouse ID'\u001b[0m\u001b[1;33m]\u001b[0m\u001b[1;33m,\u001b[0m\u001b[0mkeep\u001b[0m\u001b[1;33m=\u001b[0m\u001b[1;32mFalse\u001b[0m\u001b[1;33m)\u001b[0m\u001b[1;33m\u001b[0m\u001b[1;33m\u001b[0m\u001b[0m\n\u001b[0m\u001b[0;32m      3\u001b[0m \u001b[0mdisplay_duplicate1\u001b[0m \u001b[1;33m=\u001b[0m \u001b[0mpd\u001b[0m\u001b[1;33m.\u001b[0m\u001b[0mDataFrame\u001b[0m\u001b[1;33m(\u001b[0m\u001b[0mdisplay_duplicate\u001b[0m\u001b[1;33m)\u001b[0m\u001b[1;33m\u001b[0m\u001b[1;33m\u001b[0m\u001b[0m\n\u001b[0;32m      4\u001b[0m \u001b[0mdisplay_duplicate1\u001b[0m\u001b[1;33m\u001b[0m\u001b[1;33m\u001b[0m\u001b[0m\n",
      "\u001b[1;31mTypeError\u001b[0m: duplicated() got an unexpected keyword argument 'subset'"
     ]
    }
   ],
   "source": [
    "# Optional: Get all the data for the duplicate mouse ID. \n",
    "display_duplicate = mouse_study_duplicated.duplicated(subset=['Mouse ID'],keep=False)\n",
    "display_duplicate1 = pd.DataFrame(display_duplicate)\n",
    "display_duplicate1"
   ]
  },
  {
   "cell_type": "code",
   "execution_count": null,
   "metadata": {},
   "outputs": [],
   "source": [
    "#Display the number of unique mice IDs in the data\n",
    "unique_mouseid = mouse_study [\"Mouse ID\"].unique()\n",
    "unique_mouseid"
   ]
  },
  {
   "cell_type": "code",
   "execution_count": null,
   "metadata": {},
   "outputs": [],
   "source": [
    "# Create a clean DataFrame by dropping the duplicate mouse by its ID.\n",
    "#clean_data = mouse_study.drop_duplicates(subset=['Mouse ID'], keep = 'last')\n",
    "#clean_data = mouse_study.loc[mouse_study[\"Mouse ID\"]!= (\"\".join((mouse_duplicated))),:]\n",
    "clean_data= mouse_study[mouse_study[\"Mouse ID\"].isin(display_duplicate1)==False]\n",
    "clean_data"
   ]
  },
  {
   "cell_type": "code",
   "execution_count": null,
   "metadata": {},
   "outputs": [],
   "source": [
    "# Checking the number of mice in the clean DataFrame.\n",
    "clean_data[\"Mouse ID\"].count()"
   ]
  },
  {
   "cell_type": "markdown",
   "metadata": {},
   "source": [
    "Summary Statistics"
   ]
  },
  {
   "cell_type": "code",
   "execution_count": null,
   "metadata": {},
   "outputs": [],
   "source": [
    "# Generate a summary statistics table of mean, median, variance, standard deviation, and SEM of the tumour volume for each regimen\n",
    "\n",
    "# Use groupby and summary statistical methods to calculate the following properties of each drug regimen: \n",
    "# Assemble the resulting series into a single summary dataframe.\n",
    "# mean of the tumour volume. \n",
    "mean_clean_data = pd.DataFrame(clean_data.groupby([\"Drug Regimen\"]).mean()[\"Tumour Volume (mm3)\"])\n",
    "mean_clean_data = mean_clean_data.rename(columns={\"Tumour Volume (mm3)\":\"Mean\"})\n"
   ]
  },
  {
   "cell_type": "code",
   "execution_count": null,
   "metadata": {},
   "outputs": [],
   "source": [
    "# median of the tumour volume.\n",
    "median_clean_data = pd.DataFrame(clean_data.groupby([\"Drug Regimen\"]).median()[\"Tumour Volume (mm3)\"])\n",
    "median_clean_data = median_clean_data.rename(columns={\"Tumour Volume (mm3)\":\"Median\"})\n"
   ]
  },
  {
   "cell_type": "code",
   "execution_count": null,
   "metadata": {},
   "outputs": [],
   "source": [
    "#variance of the tumour volume.\n",
    "variance_clean_data = pd.DataFrame(clean_data.groupby([\"Drug Regimen\"]).var()[\"Tumour Volume (mm3)\"])\n",
    "variance_clean_data = variance_clean_data.rename(columns={\"Tumour Volume (mm3)\": \"Variance\"})\n"
   ]
  },
  {
   "cell_type": "code",
   "execution_count": null,
   "metadata": {},
   "outputs": [],
   "source": [
    "#standard deviation of the tumour volume.\n",
    "std_clean_data = pd.DataFrame(clean_data.groupby([\"Drug Regimen\"]).std()[\"Tumour Volume (mm3)\"])\n",
    "std_clean_data = std_clean_data.rename(columns={\"Tumour Volume (mm3)\": \"Standard Deviation\"})\n"
   ]
  },
  {
   "cell_type": "code",
   "execution_count": null,
   "metadata": {},
   "outputs": [],
   "source": [
    "# SEM of the tumour volume.\n",
    "sem_clean_data = pd.DataFrame(clean_data.groupby([\"Drug Regimen\"]).sem()[\"Tumour Volume (mm3)\"])\n",
    "sem_clean_data = sem_clean_data.rename(columns={\"Tumour Volume (mm3)\": \"SEM\"})"
   ]
  },
  {
   "cell_type": "code",
   "execution_count": null,
   "metadata": {},
   "outputs": [],
   "source": [
    "# Generate a summary statistics table of mean, median, variance, standard deviation, and SEM of the tumour volume for each regimen\n",
    "statistics_clean_data = mean_clean_data.join(median_clean_data).join(variance_clean_data).join(std_clean_data).join(sem_clean_data)\n",
    "statistics_clean_data"
   ]
  },
  {
   "cell_type": "code",
   "execution_count": null,
   "metadata": {},
   "outputs": [],
   "source": [
    "# Using the aggregation method, produce the same summary statistics in a single line\n",
    "agg_summary_table = clean_data.groupby([\"Drug Regimen\"]).agg({\"Tumour Volume (mm3)\": ['mean','median','var','std','sem']})\n",
    "agg_summary_table = agg_summary_table.rename(columns={'mean': \"Mean\", \"var\":\"Variance\", \"std\": \"Standard Deviation\", \"median\": \"Median\", \"sem\": \"SEM\"})\n",
    "agg_summary_table"
   ]
  },
  {
   "cell_type": "markdown",
   "metadata": {},
   "source": [
    "Bar and Pie Charts"
   ]
  },
  {
   "cell_type": "code",
   "execution_count": null,
   "metadata": {},
   "outputs": [],
   "source": [
    "#Set DataFrame for each drug regiment by using groupby\n",
    "drug_regiment = pd.DataFrame(clean_data.groupby([\"Drug Regimen\"]).sum()[\"Timepoint\"])\n",
    "drug_regiment =drug_regiment.reset_index()"
   ]
  },
  {
   "cell_type": "code",
   "execution_count": null,
   "metadata": {},
   "outputs": [],
   "source": [
    "# Generate a bar plot showing the total number of timepoints for all mice tested for each drug regimen using Pandas.\n",
    "drug_regiment_bar =drug_regiment.plot(x = \"Drug Regimen\", y= \"Timepoint\", kind = \"bar\", figsize = (6,10))\n",
    "drug_regiment_bar.set_xlabel (\"Drug Regimen\")\n",
    "drug_regiment_bar.set_ylabel (\"Time Point\")\n",
    "drug_regiment_bar.set_title (\"Drug Regiment vs Time Point\")\n",
    "plt.show()\n",
    "plt.tight_layout()"
   ]
  },
  {
   "cell_type": "code",
   "execution_count": null,
   "metadata": {},
   "outputs": [],
   "source": [
    "# Generate a bar plot showing the total number of timepoints for all mice tested for each drug regimen using pyplot.\n",
    "x_axis = np.arange(len(drug_regiment))\n",
    "tick_locations = [values for values in x_axis]\n",
    "plt.bar(x_axis, drug_regiment[\"Timepoint\"], color = 'b', align = \"center\") #, clean_data[\"Timepoint\"], alpha = 0.5, align=\"center\")\n",
    "plt.xticks(tick_locations, drug_regiment[\"Drug Regimen\"])\n",
    "plt.show()"
   ]
  },
  {
   "cell_type": "code",
   "execution_count": null,
   "metadata": {},
   "outputs": [],
   "source": [
    "# Generate a pie plot showing the distribution of female versus male mice using Pandas\n",
    "gender_mice = clean_data.groupby(clean_data[\"Sex\"]).count().plot ( y=\"Mouse ID\", kind = \"pie\", autopct=\"%1.1f%%\")\n",
    "gender_mice.set_title (\"The Distribution of Female vs Male Mice\")\n",
    "gender_mice.set_ylabel(\"\")\n",
    "plt.tight_layout()\n",
    "plt.show()"
   ]
  },
  {
   "cell_type": "code",
   "execution_count": null,
   "metadata": {},
   "outputs": [],
   "source": [
    "# Generate a pie plot showing the distribution of female versus male mice using pyplot\n",
    "gender_mice_plt = clean_data.groupby(clean_data[\"Sex\"]).count()\n",
    "gender_mice_plt = pd.DataFrame(gender_mice_plt, columns = [\"Mouse ID\"])\n",
    "gender_mice_plt = gender_mice_plt.reset_index()\n",
    "my_label = gender_mice_plt[\"Sex\"]\n",
    "my_value = gender_mice_plt[\"Mouse ID\"]\n",
    "plt.ylabel(\"\")\n",
    "plt.pie(my_value, labels= my_label, autopct='%1.1f%%')\n",
    "plt.show()\n",
    "\n",
    "\n",
    "#plt.legend(pie[0],labels, bbox_to_anchor=(1,0.5), loc=\"center right\", fontsize=10, bbox_transform=plt.gcf().transFigure)"
   ]
  },
  {
   "cell_type": "markdown",
   "metadata": {},
   "source": [
    "Quartiles, Outliers and Boxplots"
   ]
  },
  {
   "cell_type": "code",
   "execution_count": null,
   "metadata": {},
   "outputs": [],
   "source": [
    "# Calculate the final tumor volume of each mouse across four of the treatment regimens:  \n",
    "# Capomulin, Ramicane, Infubinol, and Ceftamin\n",
    "final_tumour_volume = pd.DataFrame(clean_data.drop_duplicates(subset=[\"Drug Regimen\"], keep='last')) \n",
    "final_tumour_volume = final_tumour_volume [[\"Mouse ID\", \"Drug Regimen\", \"Tumour Volume (mm3)\", \"Timepoint\"]]\n",
    "\n",
    "# Start by getting the last (greatest) timepoint for each mouse\n",
    "\n",
    "# Merge this group df with the original dataframe to get the tumour volume at the last timepoint\n",
    "merge_timepoint_tumour = final_tumour_volume.merge (clean_data, on = [\"Mouse ID\", \"Timepoint\"], how =\"left\")\n",
    "merge_timepoint_tumour"
   ]
  },
  {
   "cell_type": "code",
   "execution_count": null,
   "metadata": {},
   "outputs": [],
   "source": [
    "# Put treatments into a list for for loop (and later for plot labels)\n",
    "treatment_drug = list(merge_timepoint_tumour[\"Drug Regimen\"])\n",
    "treatment_drug_list = [treatment for treatment in treatment_drug]\n",
    "\n",
    "# Create empty list to fill with tumour vol data (for plotting)\n",
    "tumour_list = []\n",
    "\n",
    "# Calculate the IQR and quantitatively determine if there are any potential outliers. \n",
    "\n",
    "for tumour in tumour_list:\n",
    "\n",
    "#quartiles \n",
    "# Locate the rows which contain mice on each drug and get the tumour volumes\n",
    "    tumour_volume = merge_timepoint_tumor.loc[merge_timepoint_tumor[\"Drug Regimen\"] == tumour, \"Tumour Volume (mm3)\"]\n",
    "    \n",
    "# add subset \n",
    "    tumour_list.append(tumour_volume)\n",
    "    \n",
    "# Determine outliers using upper and lower bounds\n",
    "    quartiles = tumour_volume.quantile ([.25,.5,.75])\n",
    "    lowerq = quartiles[0.25]\n",
    "    upperq = quartiles[0.75]\n",
    "    iqr = upperq -  lowerq\n",
    "    \n",
    "    lower_bound = lowerq- (1.5*iqr)\n",
    "    upper_bound = upperq +(1.5*iqr)    \n",
    "    outliers_tumour = merge_timepoint_tumor.loc[(merge_timepoint_tumor[\"Tumour Volume (mm3)\"] < lower_bound) | (merge_timepoint_tumor[\"Tumour Volume (mm3)\"] > upper_bound)]\n",
    "    outliers_tumour"
   ]
  }
 ],
 "metadata": {
  "kernelspec": {
   "display_name": "Python 3.7.7 ('PythonData')",
   "language": "python",
   "name": "python3"
  },
  "language_info": {
   "codemirror_mode": {
    "name": "ipython",
    "version": 3
   },
   "file_extension": ".py",
   "mimetype": "text/x-python",
   "name": "python",
   "nbconvert_exporter": "python",
   "pygments_lexer": "ipython3",
   "version": "3.7.7"
  },
  "orig_nbformat": 4,
  "vscode": {
   "interpreter": {
    "hash": "7b04545d47c7e2738fd342f4668feff05623af388be79fa657245cc082efc99d"
   }
  }
 },
 "nbformat": 4,
 "nbformat_minor": 2
}
